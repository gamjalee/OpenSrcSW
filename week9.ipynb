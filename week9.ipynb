{
 "cells": [
  {
   "cell_type": "code",
   "execution_count": 1,
   "metadata": {},
   "outputs": [
    {
     "name": "stdout",
     "output_type": "stream",
     "text": [
      "x의 값을 입력하세요: 4\n",
      "y의 값은  71\n"
     ]
    }
   ],
   "source": [
    "# 실습#1 수치 계산\n",
    "#202012316 이지영\n",
    "#1번 2차방정식\n",
    "x=int(input(\"x의 값을 입력하세요: \"))\n",
    "y=3*x*x+5*x+3\n",
    "print(\"y의 값은 \", y)"
   ]
  },
  {
   "cell_type": "code",
   "execution_count": 2,
   "metadata": {},
   "outputs": [
    {
     "name": "stdout",
     "output_type": "stream",
     "text": [
      "원의 반지름을 입력하세요: 3\n",
      "원의 둘레: 18.84 원의 넓이 28.26\n"
     ]
    }
   ],
   "source": [
    "#2번 원의 둘레와 넓이\n",
    "pi=3.14\n",
    "r=int(input(\"원의 반지름을 입력하세요: \"))\n",
    "circumference=r*pi*2\n",
    "area=r*r*pi\n",
    "print(\"원의 둘레:\", circumference, \"원의 넓이\", area)"
   ]
  },
  {
   "cell_type": "code",
   "execution_count": null,
   "metadata": {},
   "outputs": [],
   "source": []
  }
 ],
 "metadata": {
  "kernelspec": {
   "display_name": "Python 3",
   "language": "python",
   "name": "python3"
  },
  "language_info": {
   "codemirror_mode": {
    "name": "ipython",
    "version": 3
   },
   "file_extension": ".py",
   "mimetype": "text/x-python",
   "name": "python",
   "nbconvert_exporter": "python",
   "pygments_lexer": "ipython3",
   "version": "3.8.5"
  }
 },
 "nbformat": 4,
 "nbformat_minor": 4
}
