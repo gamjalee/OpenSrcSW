{
 "cells": [
  {
   "cell_type": "code",
   "execution_count": 1,
   "metadata": {},
   "outputs": [
    {
     "name": "stdout",
     "output_type": "stream",
     "text": [
      "입력하세요cp f1.txt f2.txt\n",
      "to copy\n"
     ]
    }
   ],
   "source": [
    "# 실습#6 copy\n",
    "#202012316 이지영\n",
    "def copy(fname1, fname2):\n",
    "    f1=open(fname1, 'r')\n",
    "    f2=open(fname2, 'w') \n",
    "    for line in f1:\n",
    "        print(line)\n",
    "        f2.write(line)\n",
    "    f1.close()\n",
    "    f2.close()\n",
    "userinput=input(\"입력하세요\")\n",
    "u_input=userinput.split(\" \")\n",
    "if (u_input[0]==\"cp\"):\n",
    "    copy(u_input[1], u_input[2])"
   ]
  },
  {
   "cell_type": "code",
   "execution_count": 2,
   "metadata": {},
   "outputs": [
    {
     "name": "stdout",
     "output_type": "stream",
     "text": [
      "입력하세요wc f1.txt\n",
      "number of lines : 1\n",
      "number of tokens : 2\n"
     ]
    }
   ],
   "source": [
    "# 실습#7 wc\n",
    "#202012316 이지영\n",
    "def wc(fname):\n",
    "    dic={}\n",
    "    f=open(fname, 'r')\n",
    "    i=0\n",
    "    NumOfTokens=0\n",
    "    for line in f:\n",
    "        i+=1 #number of lines\n",
    "        words=line.split(\" \")\n",
    "        for word in words:\n",
    "            NumOfTokens=NumOfTokens+1#Number of tokens\n",
    "    print(\"number of lines : %d\" %i)\n",
    "    print(\"number of tokens : %d\" %NumOfTokens)\n",
    "userinput=input(\"입력하세요\")\n",
    "u_input=userinput.split(\" \")\n",
    "if (u_input[0]==\"wc\"):\n",
    "    wc(u_input[1])"
   ]
  },
  {
   "cell_type": "code",
   "execution_count": 3,
   "metadata": {},
   "outputs": [
    {
     "name": "stdout",
     "output_type": "stream",
     "text": [
      "1 + 2 = 3 입니다.\n",
      "5 - 1 = 4 입니다.\n",
      "2 * 3 = 6 입니다.\n",
      "6 / 2 = 3.0 입니다.\n"
     ]
    }
   ],
   "source": [
    "class Calc:\n",
    "    def sum(a, b):\n",
    "        result = a+b\n",
    "        print(\"%s + %s = %s 입니다.\"%(a,b,result))\n",
    "    def sub(a, b):\n",
    "        result = a-b\n",
    "        print(\"%s - %s = %s 입니다.\"%(a,b,result))\n",
    "    def multi(a, b):\n",
    "        result = a*b\n",
    "        print(\"%s * %s = %s 입니다.\"%(a,b,result))\n",
    "    def divi(a, b):\n",
    "        result = a/b\n",
    "        print(\"%s / %s = %s 입니다.\"%(a,b,result))\n",
    "#import Calc\n",
    "Calc.sum(1,2)\n",
    "Calc.sub(5,1)\n",
    "Calc.multi(2,3)\n",
    "Calc.divi(6,2)"
   ]
  },
  {
   "cell_type": "code",
   "execution_count": 6,
   "metadata": {},
   "outputs": [
    {
     "name": "stdout",
     "output_type": "stream",
     "text": [
      "입력하세요1 + 2 - 3 * 4 + 5\n",
      "i:  1\n",
      "i:  +\n",
      "stack :  ['+']\n",
      "i:  2\n",
      "i:  -\n",
      "top :  +\n",
      "p :  1\n",
      "stack :  ['+', '-']\n",
      "i:  3\n",
      "i:  *\n",
      "top :  -\n",
      "p :  2\n",
      "stack :  ['+', '-', '*']\n",
      "i:  4\n",
      "i:  +\n",
      "top :  *\n",
      "p :  1\n",
      "postfix :  ['1', '2', '3', '4', '*']\n",
      "top :  -\n",
      "p :  1\n",
      "stack :  ['+', '-', '+']\n",
      "i:  5\n",
      "계산식 출력 : \n",
      "['1', '2', '3', '4', '*', '5', '+', '-', '+']\n"
     ]
    }
   ],
   "source": [
    "# 실습#9 계산기\n",
    "#202012316 이지영\n",
    "userinput=input(\"입력하세요\")\n",
    "u_input=userinput.split(\" \")\n",
    "postfix=[]\n",
    "stack=[]\n",
    "operator=['*','/','+','-']\n",
    "bracket=['(', ')']\n",
    "def pref(x):\n",
    "    if x == '*' or x == '/':return 2\n",
    "    elif x == '+' or x == '-':return 1\n",
    "    elif x == '(' or x == ')':return 0\n",
    "for i in u_input:\n",
    "    print(\"i: \",i)\n",
    "    if i.isdigit()==True:\n",
    "        postfix.append(i)\n",
    "    elif i in operator:\n",
    "        p=pref(i)\n",
    "        while len(stack)>0:\n",
    "            top=stack[-1]\n",
    "            print(\"top : \", top)\n",
    "            print(\"p : \", p)\n",
    "            if pref(top) <= p:\n",
    "                break\n",
    "            postfix.append(stack.pop())\n",
    "            print(\"postfix : \", postfix)\n",
    "        stack.append(i)\n",
    "        print(\"stack : \", stack)\n",
    "    elif i == '(':\n",
    "        stack.append(i)\n",
    "    elif i == ')':\n",
    "        while True:\n",
    "            x=stack.pop()\n",
    "            if x == '(':\n",
    "                break\n",
    "            postfix.append(x)\n",
    "while len(stack)>0:\n",
    "    postfix.append(stack.pop())\n",
    "print(\"계산식 출력 : \")\n",
    "print(postfix)"
   ]
  }
 ],
 "metadata": {
  "kernelspec": {
   "display_name": "Python 3",
   "language": "python",
   "name": "python3"
  },
  "language_info": {
   "codemirror_mode": {
    "name": "ipython",
    "version": 3
   },
   "file_extension": ".py",
   "mimetype": "text/x-python",
   "name": "python",
   "nbconvert_exporter": "python",
   "pygments_lexer": "ipython3",
   "version": "3.8.5"
  }
 },
 "nbformat": 4,
 "nbformat_minor": 4
}
