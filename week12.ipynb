{
 "cells": [
  {
   "cell_type": "code",
   "execution_count": 2,
   "metadata": {},
   "outputs": [
    {
     "name": "stdout",
     "output_type": "stream",
     "text": [
      "일교차가 가장 큰 날\n",
      " 2020-05-06 \n",
      "최저기온이 가장 낮은 날\n",
      " 2020-12-31 \n",
      "최고기온이 가장 높은 날\n",
      " 2020-06-22\n"
     ]
    }
   ],
   "source": [
    "# 실습#1 서울의 일교차\n",
    "#202012316 이지영\n",
    "import csv\n",
    "f=open('seoul.csv')\n",
    "data=csv.reader(f)\n",
    "header=next(data)\n",
    "max_temp = -999\n",
    "max_date= ''\n",
    "min_temp = 999\n",
    "min_date= ''\n",
    "gap_temp=-999\n",
    "gap_date=''\n",
    "for row in data :\n",
    "    if row[-1]=='':\n",
    "        row[-1]= -999\n",
    "    row[-1]=float(row[-1])\n",
    "    if max_temp < row[-1]:\n",
    "        max_date=row[0]\n",
    "        max_temp = row[-1]\n",
    "        #최고 기온이 가장 높았던 날은 max_date\n",
    "    \n",
    "    if row[-2]=='':\n",
    "        row[-2]= 999\n",
    "    row[-2]=float(row[-2])\n",
    "    if min_temp > row[-2]:\n",
    "        min_date=row[0]\n",
    "        min_temp = row[-1]\n",
    "        #최고 기온이 가장 높았던 날은 max_date\n",
    "    gap=row[-1]-row[-2]\n",
    "    if gap_temp < gap:\n",
    "        gap_date=row[0]\n",
    "        gap_temp=gap\n",
    "f.close()\n",
    "print('일교차가 가장 큰 날\\n', gap_date,'\\n최저기온이 가장 낮은 날\\n', min_date, \n",
    "      '\\n최고기온이 가장 높은 날\\n', max_date)"
   ]
  },
  {
   "cell_type": "code",
   "execution_count": null,
   "metadata": {},
   "outputs": [],
   "source": [
    "# 실습#2 지하철 이용객 \n",
    "#(이용객수=승하차 승객 합친것, 노선별로 역 구하기, 2020_12 데이터)\n",
    "#이용객 많은역순위 1역명(이용객수) / 이용객 가장 적은 역순위\n",
    "#202012316 이지영\n",
    "import csv\n",
    "f=open('subwayfree.csv')\n",
    "data=csv.reader(f)\n",
    "header=next(data)\n",
    "mx=[0]*3\n",
    "mx_station=['']*3\n",
    "mn=[10000]*3\n",
    "mn_station=['']*3\n",
    "for row in data :\n",
    "    for i in range(4, 8):\n",
    "        row[i] = int(row[i])\n",
    "        if row[i]>mx[i-4]:\n",
    "            mx[i-4]=row[i]\n",
    "            mx_station[i-4]=row[3]+''+row[1]\n",
    "for i in range(4):\n",
    "    print(label[i]+' : '+mx_station[i], mx[i])"
   ]
  }
 ],
 "metadata": {
  "kernelspec": {
   "display_name": "Python 3",
   "language": "python",
   "name": "python3"
  },
  "language_info": {
   "codemirror_mode": {
    "name": "ipython",
    "version": 3
   },
   "file_extension": ".py",
   "mimetype": "text/x-python",
   "name": "python",
   "nbconvert_exporter": "python",
   "pygments_lexer": "ipython3",
   "version": "3.8.5"
  }
 },
 "nbformat": 4,
 "nbformat_minor": 4
}
