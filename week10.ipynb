{
 "cells": [
  {
   "cell_type": "code",
   "execution_count": 1,
   "metadata": {},
   "outputs": [
    {
     "name": "stdout",
     "output_type": "stream",
     "text": [
      "numbers?10 456 87 78\n",
      "Max= 456\n"
     ]
    }
   ],
   "source": [
    "# 실습#2 최대값 구하기\n",
    "#202012316 이지영\n",
    "\n",
    "n=input(\"numbers?\").split()\n",
    "num=map(int, n)\n",
    "j=0\n",
    "for i in num:  \n",
    "    if (j<i):\n",
    "        j=i\n",
    "print(\"Max=\", j)\n",
    "        "
   ]
  },
  {
   "cell_type": "code",
   "execution_count": 2,
   "metadata": {},
   "outputs": [
    {
     "name": "stdout",
     "output_type": "stream",
     "text": [
      "암호화는 1, 복호화는 2를 선택1\n",
      "암호화:abc def\n",
      "efg bcd\n"
     ]
    }
   ],
   "source": [
    "# 실습#3 암호화 복호화\n",
    "\n",
    "ch=int(input(\"암호화는 1, 복호화는 2를 선택\"))\n",
    "pw_o=\"\" #복호화한 암호\n",
    "pw_s=\"\" #암호화한 문자열\n",
    "c='' #문자 하나 따오기\n",
    "ac=0 #아스키코드로 변환\n",
    "if ch==1:\n",
    "    pw=input(\"암호화:\").split()\n",
    "    pw_1=list(reversed(pw)) #역순으로 배치\n",
    "    pw_2=' '.join(pw_1) #공백을 이용해서 구분하여 문자열로\n",
    "    for i in range(len(pw_2)):\n",
    "        c=pw_2[i]\n",
    "        ac=ord(c)\n",
    "        ac+=1\n",
    "        c=chr(ac)\n",
    "        if c==\"!\":\n",
    "            pw_s+=\" \"\n",
    "        else:\n",
    "            pw_s+=c\n",
    "    print(pw_s)\n",
    "elif ch==2:\n",
    "    pw=input(\"복호화:\").split()\n",
    "    pw_1=list(reversed(pw)) #역순으로 배치\n",
    "    #pw_1=list(pw) #역순으로 배치\n",
    "    pw_2=' '.join(pw_1) #공백을 이용해서 구분하여 문자열로\n",
    "    #print(pw_2)\n",
    "    for i in range(len(pw_2)):\n",
    "        c=pw_2[i]\n",
    "        ac=ord(c)\n",
    "        ac-=1\n",
    "        c=chr(ac)\n",
    "        #print(c)\n",
    "        if c==\"\u001f\":\n",
    "            pw_o+=\" \"\n",
    "        else:\n",
    "            pw_o+=c\n",
    "    print(pw_o)"
   ]
  },
  {
   "cell_type": "code",
   "execution_count": 3,
   "metadata": {},
   "outputs": [
    {
     "name": "stdout",
     "output_type": "stream",
     "text": [
      "입력a 1\n",
      "입력b 2\n",
      "입력c 3\n",
      "입력d 4\n",
      "입력e 5\n",
      "입력f 6\n",
      "입력g 7\n",
      "입력h 8\n",
      "입력i 9\n",
      "입력j 10\n",
      "이름 검색은 1, 전화번호 검색은 2를 선택1\n",
      "이름 입력g\n",
      "g의 전화번호 : 7 \n"
     ]
    }
   ],
   "source": [
    "# 실습#4 전화번호부\n",
    "phone={}\n",
    "for i in range(10):\n",
    "    call=input(\"입력\").split()\n",
    "    phone[call[0]]=call[1]\n",
    "ch=int(input(\"이름 검색은 1, 전화번호 검색은 2를 선택\"))\n",
    "\n",
    "if ch==1:\n",
    "    search=input(\"이름 입력\")\n",
    "    for i in range(10):\n",
    "        if search in phone:\n",
    "            print(\"{0}의 전화번호 : {1} \".format(search, phone[search]))\n",
    "            break\n",
    "elif ch==2:\n",
    "    search=input(\"번호 입력\")\n",
    "    phone_1={v:k for k, v in phone.items()}\n",
    "    for i in range(10):\n",
    "        if search in phone_1:\n",
    "            print(\"{1}의 전화번호 : {0}  \".format(search, phone_1[search]))\n",
    "            break"
   ]
  },
  {
   "cell_type": "code",
   "execution_count": 4,
   "metadata": {},
   "outputs": [],
   "source": [
    "#a=\"abc def\"\n",
    "#a_=a.split(\" \")\n",
    "\n",
    "#b=list(reversed(a_))\n",
    "\n",
    "#b_=' '.join(b)\n",
    "#print(list(b_))\n",
    "#c=''\n",
    "#ac=0\n",
    "#a_=\"\"\n",
    "#for i in range(len(b_)):\n",
    " #   c=b_[i]\n",
    "#    ac=ord(c)\n",
    " #   ac+=1\n",
    " #   c=chr(ac)\n",
    "  #  if c==\"!\": \n",
    "  #      a_+=\" \"\n",
    "  #  else:\n",
    " #       a_+=c\n",
    "#print(a_)\n",
    "#print(\" \")"
   ]
  }
 ],
 "metadata": {
  "kernelspec": {
   "display_name": "Python 3",
   "language": "python",
   "name": "python3"
  },
  "language_info": {
   "codemirror_mode": {
    "name": "ipython",
    "version": 3
   },
   "file_extension": ".py",
   "mimetype": "text/x-python",
   "name": "python",
   "nbconvert_exporter": "python",
   "pygments_lexer": "ipython3",
   "version": "3.8.5"
  }
 },
 "nbformat": 4,
 "nbformat_minor": 4
}
